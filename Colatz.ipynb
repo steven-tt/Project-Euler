{
 "cells": [
  {
   "cell_type": "markdown",
   "metadata": {},
   "source": [
    "# Collzts Conjecture\n",
    "\n",
    "If n is odd 3n+1\n",
    "If n is even n/2\n",
    "\n",
    "$ n\\in\\mathbb{Z}$\n",
    "\n",
    "Repeat until you reach one"
   ]
  },
  {
   "cell_type": "code",
   "execution_count": 1,
   "metadata": {},
   "outputs": [],
   "source": [
    "def cltz(n):\n",
    "    \"\"\"\n",
    "    This is the function for the collatz conjecture. \n",
    "    It takes even numbers and divides them by 2.\n",
    "    It takes odd numbers and multiplies them by 3 and adds 1\n",
    "    \"\"\"\n",
    "    if n % 2 == 0:\n",
    "        return n/2\n",
    "    else:\n",
    "        return 3*n+1\n",
    "\n",
    "def rpt_cltz(nmbr):\n",
    "    \"\"\"\n",
    "    This iterates the cltz function above.\n",
    "    It returns the number of iterations the number (nmbr) takes to reach 1 \n",
    "    through the cltz function\n",
    "    \"\"\"\n",
    "    counter = 1 #starts at one to include starting number in count\n",
    "    while nmbr > 1:\n",
    "        counter+=1\n",
    "        nmbr=cltz(nmbr)\n",
    "    return(counter)"
   ]
  },
  {
   "cell_type": "code",
   "execution_count": 6,
   "metadata": {},
   "outputs": [],
   "source": [
    "counts={}\n",
    "for i in range(1000000):\n",
    "    counts[str(i)] = rpt_cltz(i)"
   ]
  },
  {
   "cell_type": "code",
   "execution_count": 14,
   "metadata": {},
   "outputs": [
    {
     "data": {
      "text/plain": [
       "837799"
      ]
     },
     "execution_count": 14,
     "metadata": {},
     "output_type": "execute_result"
    }
   ],
   "source": [
    "list(counts.values()).index(525)"
   ]
  }
 ],
 "metadata": {
  "kernelspec": {
   "display_name": "Python 3",
   "language": "python",
   "name": "python3"
  },
  "language_info": {
   "codemirror_mode": {
    "name": "ipython",
    "version": 3
   },
   "file_extension": ".py",
   "mimetype": "text/x-python",
   "name": "python",
   "nbconvert_exporter": "python",
   "pygments_lexer": "ipython3",
   "version": "3.6.4"
  }
 },
 "nbformat": 4,
 "nbformat_minor": 2
}

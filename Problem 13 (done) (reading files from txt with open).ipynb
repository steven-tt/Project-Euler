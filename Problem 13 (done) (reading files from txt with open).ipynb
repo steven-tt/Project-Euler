{
 "cells": [
  {
   "cell_type": "code",
   "execution_count": 3,
   "metadata": {},
   "outputs": [
    {
     "name": "stdout",
     "output_type": "stream",
     "text": [
      "5537376230\n",
      "0.006982088088989258\n"
     ]
    }
   ],
   "source": [
    "import time\n",
    "start = time.time()\n",
    "nums= open(\"problem 13.txt\") # just copy and paste the numbesr to a text file in the same directory as .py or ipynb file\n",
    "len(nums.readlines())\n",
    "var_sum = 0\n",
    "nums.seek(0)\n",
    "for i in range(len(nums.readlines())):\n",
    "    nums.seek(0)\n",
    "    var_sum += int(nums.readlines()[i])\n",
    "print(str(var_sum)[:10])\n",
    "print(time.time()-start)"
   ]
  },
  {
   "cell_type": "code",
   "execution_count": null,
   "metadata": {},
   "outputs": [],
   "source": []
  }
 ],
 "metadata": {
  "kernelspec": {
   "display_name": "Python 3",
   "language": "python",
   "name": "python3"
  },
  "language_info": {
   "codemirror_mode": {
    "name": "ipython",
    "version": 3
   },
   "file_extension": ".py",
   "mimetype": "text/x-python",
   "name": "python",
   "nbconvert_exporter": "python",
   "pygments_lexer": "ipython3",
   "version": "3.7.0"
  }
 },
 "nbformat": 4,
 "nbformat_minor": 2
}

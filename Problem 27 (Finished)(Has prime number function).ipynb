{
 "cells": [
  {
   "cell_type": "markdown",
   "metadata": {},
   "source": [
    "Euler discovered the remarkable quadratic formula:\n",
    "\n",
    "$$n^2+n+41$$\n",
    "It turns out that the formula will produce 40 primes for the consecutive integer values $0≤n≤39$. However, when $n=40,40^2+40+41=40(40+1)+41$ is divisible by 41, and certainly when $n=41,41^2+41+41$ is clearly divisible by 41.\n",
    "\n",
    "The incredible formula $n^2−79n+1601$ was discovered, which produces 80 primes for the consecutive values 0≤n≤79. The product of the coefficients, −79 and 1601, is −126479.\n",
    "\n",
    "Considering quadratics of the form:\n",
    "\n",
    "$n^2+an+b$, where $|a|<1000$ and $|b|≤1000$\n",
    "\n",
    "where $|n|$ is the modulus/absolute value of $n$\n",
    "\n",
    "e.g. $|11|=11$ and $|−4|=4$\n",
    "\n",
    "Find the product of the coefficients, $a$ and $b$, for the quadratic expression that produces the maximum number of primes for consecutive values of $n$, starting with $n=0$.\n",
    "\n",
    "[Problem](https://projecteuler.net/problem=27)"
   ]
  },
  {
   "cell_type": "code",
   "execution_count": 1,
   "metadata": {},
   "outputs": [],
   "source": [
    "def is_prime(num):\n",
    "    if num<=1:\n",
    "        return False\n",
    "    if num % 2 == 0 and num > 2:\n",
    "        return False\n",
    "    for divisor in range(3, int(num ** (1/2)) + 1, 2):\n",
    "        if num % divisor == 0:\n",
    "            return False\n",
    "    return True"
   ]
  },
  {
   "cell_type": "markdown",
   "metadata": {},
   "source": [
    "When n = 0, n^2+an+b = b so be has to be prime\n",
    "when n = 1, n^2+an+b = 1 + a + b this also needs to be prime so when b is 2 a needs to be even otherwise they are both odd\n",
    "\n",
    "https://www.mathblog.dk/project-euler-27-quadratic-formula-primes-consecutive-values/"
   ]
  },
  {
   "cell_type": "code",
   "execution_count": 2,
   "metadata": {},
   "outputs": [
    {
     "name": "stdout",
     "output_type": "stream",
     "text": [
      "a is -61\n",
      "b is 971\n",
      "n is 71\n",
      "the product of a and b is-59231\n",
      "it took 183657 computations to get the answer\n",
      "it took 0.599 seconds to get the answer\n"
     ]
    }
   ],
   "source": [
    "import time\n",
    "\n",
    "start = time.time()\n",
    "\n",
    "nmax = 0\n",
    "amax = 0\n",
    "bmax = 0\n",
    "number_of_computations = 0\n",
    "for b in range(1,1001):\n",
    "    if is_prime(b):\n",
    "        if b == 2:\n",
    "            adjust = 1\n",
    "        else:\n",
    "            adjust = 0\n",
    "        for a in range(-999-adjust,1001,2):\n",
    "            if 1 + a + b > 0:\n",
    "                n=0\n",
    "                while is_prime(n**2+a*n+b):\n",
    "                    n+=1\n",
    "                    number_of_computations +=1\n",
    "                if n > nmax:\n",
    "                    amax = a\n",
    "                    bmax = b\n",
    "                    nmax = n\n",
    "\n",
    "elapsed = time.time()-start\n",
    "\n",
    "print(f'a is {amax}\\nb is {bmax}\\nn is {nmax}\\nthe product of a and b is'+str(amax*bmax)+f'\\nit took {number_of_computations} computations to get the answer\\nit took {elapsed:1.3f} seconds to get the answer')"
   ]
  },
  {
   "cell_type": "code",
   "execution_count": null,
   "metadata": {},
   "outputs": [],
   "source": []
  }
 ],
 "metadata": {
  "kernelspec": {
   "display_name": "Python 3",
   "language": "python",
   "name": "python3"
  },
  "language_info": {
   "codemirror_mode": {
    "name": "ipython",
    "version": 3
   },
   "file_extension": ".py",
   "mimetype": "text/x-python",
   "name": "python",
   "nbconvert_exporter": "python",
   "pygments_lexer": "ipython3",
   "version": "3.7.0"
  }
 },
 "nbformat": 4,
 "nbformat_minor": 2
}

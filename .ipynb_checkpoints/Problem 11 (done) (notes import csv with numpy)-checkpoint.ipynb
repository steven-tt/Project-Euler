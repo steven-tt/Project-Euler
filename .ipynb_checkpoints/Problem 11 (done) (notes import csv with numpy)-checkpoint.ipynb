{
 "cells": [
  {
   "cell_type": "markdown",
   "metadata": {},
   "source": [
    "# Code"
   ]
  },
  {
   "cell_type": "code",
   "execution_count": 3,
   "metadata": {},
   "outputs": [
    {
     "name": "stdout",
     "output_type": "stream",
     "text": [
      "70600674\n",
      "0.006 seconds\n"
     ]
    }
   ],
   "source": [
    "import numpy\n",
    "import time\n",
    "start = time.time()\n",
    "\n",
    "nums = numpy.loadtxt(open(\"Problem 11.csv\",'r'), delimiter=\" \")\n",
    "\n",
    "largest_num = 0\n",
    "\n",
    "#diagonal \\\n",
    "for i in range(nums.shape[0]-3): #row\n",
    "    for j in range(nums.shape[1]-3): #column\n",
    "        #right diagonal\n",
    "        new_num_right = nums[i][j]*nums[i+1][j+1]*nums[i+2][j+2]*nums[i+3][j+3]\n",
    "        #left diagonal\n",
    "        new_num_left = nums[i+3][j]*nums[i+2][j+1]*nums[i+1][j+2]*nums[i][j+3]\n",
    "        if max(new_num_right,new_num_left) > largest_num:\n",
    "            largest_num = max(new_num_right,new_num_left)\n",
    "            \n",
    "for i in range(nums.shape[0]-3):\n",
    "    for j in range(nums.shape[1]):\n",
    "        new_num_vert = nums[i][j]*nums[i+1][j]*nums[i+2][j]*nums[i+3][j]\n",
    "        if new_num_vert > largest_num:\n",
    "            largest_num = new_num_vert\n",
    "\n",
    "for i in range(nums.shape[0]):\n",
    "    for j in range(nums.shape[1]-3):\n",
    "        new_num_horz = nums[i][j]*nums[i][j+1]*nums[i][j+2]*nums[i][j+3]\n",
    "        if new_num_horz > largest_num:\n",
    "            largest_num = new_num_horz\n",
    "\n",
    "print(f\"{int(largest_num)}\\n{time.time()-start:1.3f} seconds\")"
   ]
  },
  {
   "cell_type": "markdown",
   "metadata": {},
   "source": [
    "# Notes"
   ]
  },
  {
   "cell_type": "code",
   "execution_count": 2,
   "metadata": {},
   "outputs": [
    {
     "data": {
      "text/plain": [
       "(20, 20)"
      ]
     },
     "execution_count": 2,
     "metadata": {},
     "output_type": "execute_result"
    }
   ],
   "source": [
    "nums.shape # this first is number of rows the second is number of colums"
   ]
  },
  {
   "cell_type": "code",
   "execution_count": 11,
   "metadata": {},
   "outputs": [
    {
     "data": {
      "text/plain": [
       "22.0"
      ]
     },
     "execution_count": 11,
     "metadata": {},
     "output_type": "execute_result"
    }
   ],
   "source": [
    "nums[0][2]"
   ]
  },
  {
   "cell_type": "code",
   "execution_count": 9,
   "metadata": {},
   "outputs": [
    {
     "name": "stdout",
     "output_type": "stream",
     "text": [
      "70600674.0\n"
     ]
    }
   ],
   "source": []
  },
  {
   "cell_type": "code",
   "execution_count": 6,
   "metadata": {},
   "outputs": [
    {
     "ename": "SyntaxError",
     "evalue": "invalid syntax (<ipython-input-6-735079c0bf94>, line 4)",
     "output_type": "error",
     "traceback": [
      "\u001b[1;36m  File \u001b[1;32m\"<ipython-input-6-735079c0bf94>\"\u001b[1;36m, line \u001b[1;32m4\u001b[0m\n\u001b[1;33m    new_num_horz = nums[][]*nums[][]*nums[][]*nums[][]\u001b[0m\n\u001b[1;37m                        ^\u001b[0m\n\u001b[1;31mSyntaxError\u001b[0m\u001b[1;31m:\u001b[0m invalid syntax\n"
     ]
    }
   ],
   "source": [
    "        #vertical\n",
    "        new_num_vert = nums[i][j]*nums[i+1][j]*nums[i+2][j]*nums[i+3][j]\n",
    "        #horzontal\n",
    "        new_num_horz = nums[][]*nums[][]*nums[][]*nums[][]"
   ]
  },
  {
   "cell_type": "code",
   "execution_count": null,
   "metadata": {},
   "outputs": [],
   "source": []
  }
 ],
 "metadata": {
  "kernelspec": {
   "display_name": "Python 3",
   "language": "python",
   "name": "python3"
  },
  "language_info": {
   "codemirror_mode": {
    "name": "ipython",
    "version": 3
   },
   "file_extension": ".py",
   "mimetype": "text/x-python",
   "name": "python",
   "nbconvert_exporter": "python",
   "pygments_lexer": "ipython3",
   "version": "3.7.0"
  }
 },
 "nbformat": 4,
 "nbformat_minor": 2
}

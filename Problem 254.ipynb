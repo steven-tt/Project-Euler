{
 "cells": [
  {
   "cell_type": "code",
   "execution_count": 2,
   "metadata": {},
   "outputs": [],
   "source": [
    "import math\n",
    "def fn(num):\n",
    "    sumof=0\n",
    "    for i in str(num):\n",
    "        sumof = sumof + math.factorial(int(i))\n",
    "    return sumof\n",
    "\n",
    "def sfn(num):\n",
    "    sumof=0\n",
    "    for i in str(fn(num)):\n",
    "        sumof = sumof + int(i)\n",
    "    return sumof\n",
    "\n",
    "def gi(num):\n",
    "    what_we_want=0\n",
    "    i=0\n",
    "    while what_we_want != num:\n",
    "        what_we_want = sfn(i)\n",
    "        i+=1\n",
    "    return i-1\n",
    "\n",
    "def sgi(num):\n",
    "    sumof=0\n",
    "    for i in str(gi(num)):\n",
    "        sumof = sumof + int(i)\n",
    "    return sumof"
   ]
  },
  {
   "cell_type": "markdown",
   "metadata": {},
   "source": [
    "so $g(i)=n$ where n is small as possible such that sf(n)=i"
   ]
  },
  {
   "cell_type": "code",
   "execution_count": null,
   "metadata": {},
   "outputs": [
    {
     "name": "stdout",
     "output_type": "stream",
     "text": [
      "1 0.0\n",
      "2 0.000982046127319336\n",
      "3 0.000982046127319336\n",
      "4 0.000982046127319336\n",
      "5 0.000982046127319336\n",
      "6 0.000982046127319336\n",
      "7 0.000982046127319336\n",
      "8 0.001976490020751953\n",
      "9 0.001976490020751953\n",
      "10 0.001976490020751953\n",
      "11 0.001976490020751953\n",
      "12 0.001976490020751953\n",
      "13 0.0029757022857666016\n",
      "14 0.003962516784667969\n",
      "15 0.003962516784667969\n",
      "16 0.003962516784667969\n",
      "17 0.00498652458190918\n",
      "18 0.00498652458190918\n",
      "19 0.005987644195556641\n",
      "20 0.005987644195556641\n",
      "21 0.006954669952392578\n",
      "22 0.012938261032104492\n",
      "23 0.020943403244018555\n",
      "24 0.021941423416137695\n",
      "25 0.021941423416137695\n",
      "26 0.021941423416137695\n",
      "27 0.021941423416137695\n",
      "28 0.022937536239624023\n",
      "29 0.022937536239624023\n",
      "30 0.022937536239624023\n",
      "31 0.023914337158203125\n",
      "32 0.026901721954345703\n",
      "33 0.027926921844482422\n",
      "34 0.027926921844482422\n",
      "35 0.028922557830810547\n",
      "36 0.03388500213623047\n",
      "37 0.07679605484008789\n",
      "38 0.1535952091217041\n",
      "39 0.16656112670898438\n",
      "40 0.2124335765838623\n",
      "41 9.64619255065918\n",
      "42 10.89588212966919\n",
      "43 16.069027423858643\n",
      "44 25.45294737815857\n"
     ]
    }
   ],
   "source": [
    "import time\n",
    "start=time.time()\n",
    "sum_sgi=0\n",
    "for i in range(1,50):\n",
    "    sum_sgi = sum_sgi + sgi(i)\n",
    "    print(i,time.time()-start)\n",
    "elapsed = time.time()-start\n",
    "print(sum_sgi+1,elapsed)"
   ]
  },
  {
   "cell_type": "code",
   "execution_count": null,
   "metadata": {},
   "outputs": [],
   "source": []
  }
 ],
 "metadata": {
  "kernelspec": {
   "display_name": "Python 3",
   "language": "python",
   "name": "python3"
  },
  "language_info": {
   "codemirror_mode": {
    "name": "ipython",
    "version": 3
   },
   "file_extension": ".py",
   "mimetype": "text/x-python",
   "name": "python",
   "nbconvert_exporter": "python",
   "pygments_lexer": "ipython3",
   "version": "3.7.0"
  }
 },
 "nbformat": 4,
 "nbformat_minor": 2
}

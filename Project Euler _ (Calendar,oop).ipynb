{
 "cells": [
  {
   "cell_type": "code",
   "execution_count": 15,
   "metadata": {},
   "outputs": [
    {
     "ename": "IndentationError",
     "evalue": "expected an indented block (<ipython-input-15-f3d71bf62612>, line 41)",
     "output_type": "error",
     "traceback": [
      "\u001b[1;36m  File \u001b[1;32m\"<ipython-input-15-f3d71bf62612>\"\u001b[1;36m, line \u001b[1;32m41\u001b[0m\n\u001b[1;33m    class Year:\u001b[0m\n\u001b[1;37m               ^\u001b[0m\n\u001b[1;31mIndentationError\u001b[0m\u001b[1;31m:\u001b[0m expected an indented block\n"
     ]
    }
   ],
   "source": [
    "#week = ('Mon', 'Tue', 'Wed','Thus','Fri','Sat','Sun')\n",
    "week = {0:'Mon', 1:'Tue', 2:'Wed',3:'Thus',4:'Fri',5:'Sat',6:'Sun'} \n",
    "months = ('Jan','Feb','Mar','Apr','May','June','July','Aug','Sept','Oct','Nov','Dec')\n",
    "days_per_month = {'Jan':31,'Feb':28,'Mar':31,'Apr':30,'May':31,'June':30,'July':31,'Aug':31,'Sept':30,'Oct':31,'Nov':30,'Dec':31}\n",
    "start_year = 1900\n",
    "\n",
    "\n",
    "class Day:\n",
    "    \n",
    "    def __init__(self,day_of_week,number):\n",
    "        self.day_of_week = day_of_week\n",
    "        self.number = number\n",
    "        \n",
    "    def __str__(self):\n",
    "        if self.number == 2 or self.number == 22:\n",
    "            return f\"{self.day_of_week} the {self.number}nd\"\n",
    "        elif self.number == 3 or self.number == 23:\n",
    "            return f\"{self.day_of_week} the {self.number}rd\"\n",
    "        else:\n",
    "            return f\"{self.day_of_week} the {self.number}st\"\n",
    "\n",
    "class Month:\n",
    "    \n",
    "    def __init__(self,name,year,starting_day):\n",
    "        empty_calendar = []\n",
    "        self.name = name\n",
    "        self.year = year\n",
    "        self.starting_day = staring_day\n",
    "        for i in range(1,days_per_month[self.name]+1):\n",
    "            empty_calendar.append()\n",
    "            \n",
    "        \n",
    "    def __str__(self):\n",
    "        return f\"{self.name} of {year}\"\n",
    "    \n",
    "    def calendar(self):\n",
    "    \n",
    "    \n",
    "    \n",
    "\n",
    "class Year:\n",
    "    pass\n",
    "    "
   ]
  },
  {
   "cell_type": "code",
   "execution_count": 12,
   "metadata": {},
   "outputs": [
    {
     "data": {
      "text/plain": [
       "31"
      ]
     },
     "execution_count": 12,
     "metadata": {},
     "output_type": "execute_result"
    }
   ],
   "source": [
    "days_per_month['Jan']"
   ]
  },
  {
   "cell_type": "code",
   "execution_count": 13,
   "metadata": {},
   "outputs": [
    {
     "data": {
      "text/plain": [
       "'Mon the 3rd'"
      ]
     },
     "execution_count": 13,
     "metadata": {},
     "output_type": "execute_result"
    }
   ],
   "source": []
  },
  {
   "cell_type": "code",
   "execution_count": null,
   "metadata": {},
   "outputs": [],
   "source": []
  }
 ],
 "metadata": {
  "kernelspec": {
   "display_name": "Python 3",
   "language": "python",
   "name": "python3"
  },
  "language_info": {
   "codemirror_mode": {
    "name": "ipython",
    "version": 3
   },
   "file_extension": ".py",
   "mimetype": "text/x-python",
   "name": "python",
   "nbconvert_exporter": "python",
   "pygments_lexer": "ipython3",
   "version": "3.7.0"
  }
 },
 "nbformat": 4,
 "nbformat_minor": 2
}

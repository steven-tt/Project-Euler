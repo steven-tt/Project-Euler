{
 "cells": [
  {
   "cell_type": "code",
   "execution_count": 2,
   "metadata": {},
   "outputs": [],
   "source": [
    "Jan=31\n",
    "Feb=28\n",
    "Mar=31\n",
    "Apr=30\n",
    "May=31\n",
    "June=30\n",
    "July=31\n",
    "Aug=31\n",
    "Sep=30\n",
    "Oct=31\n",
    "Nov=30\n",
    "Dec=31\n",
    "\n",
    "Week = ('M','Tu','W','Th','F','Sa','Su')\n",
    "\n",
    "Year = (Jan,Feb,Mar,Apr,May,June,July,Aug,Sep,Oct,Nov,Dec)"
   ]
  },
  {
   "cell_type": "code",
   "execution_count": 4,
   "metadata": {},
   "outputs": [
    {
     "data": {
      "text/plain": [
       "31"
      ]
     },
     "execution_count": 4,
     "metadata": {},
     "output_type": "execute_result"
    }
   ],
   "source": []
  },
  {
   "cell_type": "code",
   "execution_count": null,
   "metadata": {},
   "outputs": [],
   "source": []
  }
 ],
 "metadata": {
  "kernelspec": {
   "display_name": "Python 3",
   "language": "python",
   "name": "python3"
  },
  "language_info": {
   "codemirror_mode": {
    "name": "ipython",
    "version": 3
   },
   "file_extension": ".py",
   "mimetype": "text/x-python",
   "name": "python",
   "nbconvert_exporter": "python",
   "pygments_lexer": "ipython3",
   "version": "3.7.0"
  }
 },
 "nbformat": 4,
 "nbformat_minor": 2
}

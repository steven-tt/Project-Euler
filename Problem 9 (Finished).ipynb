{
 "cells": [
  {
   "cell_type": "markdown",
   "metadata": {},
   "source": [
    "A Pythagorean triplet is a set of three natural numbers, a < b < c, for which,\n",
    "\n",
    "$$a^2 + b^2 = c^2$$\n",
    "\n",
    "For example, 32 + 42 = 9 + 16 = 25 = 52.\n",
    "\n",
    "There exists exactly one Pythagorean triplet for which a + b + c = 1000.\n",
    "Find the product abc.\n",
    "\n",
    "[Problem](https://projecteuler.net/problem=9)"
   ]
  },
  {
   "cell_type": "code",
   "execution_count": 7,
   "metadata": {},
   "outputs": [
    {
     "name": "stdout",
     "output_type": "stream",
     "text": [
      "31875000 200 375 425\n",
      "Time: 44.81929 seconds\n",
      "Time: 226.82380 seconds\n"
     ]
    }
   ],
   "source": [
    "import time\n",
    "\n",
    "start = time.time()\n",
    "\n",
    "\n",
    "for a in range(0,1001):\n",
    "    for b in range(0,1001):\n",
    "        for c in range(0,1001):\n",
    "            if a+b+c==1000 and a**2+b**2==c**2 and a<b and b<c:\n",
    "                print(a*b*c,a,b,c)\n",
    "                elapsed = time.time() - start\n",
    "                print(\"Time: {:.5f} seconds\".format(elapsed))\n",
    "\n",
    "elapsed = time.time() - start\n",
    "print(\"Time: {:.5f} seconds\".format(elapsed))"
   ]
  },
  {
   "cell_type": "code",
   "execution_count": 10,
   "metadata": {},
   "outputs": [
    {
     "name": "stdout",
     "output_type": "stream",
     "text": [
      "31875000 200 375 425\n",
      "Time: 5.31325 seconds\n",
      "Time: 5.75543 seconds\n"
     ]
    }
   ],
   "source": [
    "import time\n",
    "\n",
    "start = time.time()\n",
    "\n",
    "for a in range(0,1001):\n",
    "    for b in range(a+1,1001-a):\n",
    "            for c in range(b+1,1001-a-b):\n",
    "                if a+b+c==1000 and a**2+b**2==c**2:\n",
    "                    print(a*b*c,a,b,c)\n",
    "                    elapsed = time.time() - start\n",
    "                    print(\"Time: {:.5f} seconds\".format(elapsed))\n",
    "\n",
    "elapsed = time.time() - start\n",
    "print(\"Time: {:.5f} seconds\".format(elapsed))"
   ]
  },
  {
   "cell_type": "code",
   "execution_count": null,
   "metadata": {},
   "outputs": [],
   "source": []
  }
 ],
 "metadata": {
  "kernelspec": {
   "display_name": "Python 3",
   "language": "python",
   "name": "python3"
  },
  "language_info": {
   "codemirror_mode": {
    "name": "ipython",
    "version": 3
   },
   "file_extension": ".py",
   "mimetype": "text/x-python",
   "name": "python",
   "nbconvert_exporter": "python",
   "pygments_lexer": "ipython3",
   "version": "3.7.0"
  }
 },
 "nbformat": 4,
 "nbformat_minor": 2
}
